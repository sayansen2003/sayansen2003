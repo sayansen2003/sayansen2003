{
  "nbformat": 4,
  "nbformat_minor": 0,
  "metadata": {
    "colab": {
      "provenance": [],
      "authorship_tag": "ABX9TyMAQXm13lRA7y7wPnKdVv6W",
      "include_colab_link": true
    },
    "kernelspec": {
      "name": "python3",
      "display_name": "Python 3"
    },
    "language_info": {
      "name": "python"
    }
  },
  "cells": [
    {
      "cell_type": "markdown",
      "metadata": {
        "id": "view-in-github",
        "colab_type": "text"
      },
      "source": [
        "<a href=\"https://colab.research.google.com/github/sayansen2003/sayansen2003/blob/main/SOFT_COMPUTING.ipynb\" target=\"_parent\"><img src=\"https://colab.research.google.com/assets/colab-badge.svg\" alt=\"Open In Colab\"/></a>"
      ]
    },
    {
      "cell_type": "code",
      "execution_count": 7,
      "metadata": {
        "colab": {
          "base_uri": "https://localhost:8080/"
        },
        "id": "ga1ZX8zXrwNm",
        "outputId": "d94e6888-3e79-44cc-9732-0b23bdeeb24f"
      },
      "outputs": [
        {
          "output_type": "stream",
          "name": "stdout",
          "text": [
            "Net input to the output neuron: [4.74994259]\n"
          ]
        }
      ],
      "source": [
        "import numpy as np\n",
        "\n",
        "class SimpleLinearNN:\n",
        "    def __init__(self, input_size, output_size):\n",
        "        self.weights = np.random.rand(input_size, output_size)\n",
        "        self.bias = np.random.rand(output_size)\n",
        "\n",
        "    def forward(self, inputs):\n",
        "        return np.dot(inputs, self.weights) + self.bias\n",
        "\n",
        "# Example usage\n",
        "input_size = 3\n",
        "output_size = 1\n",
        "inputs = np.array([1, 2, 3])\n",
        "\n",
        "# Create a simple linear neural network\n",
        "nn = SimpleLinearNN(input_size, output_size)\n",
        "\n",
        "# Calculate the net input to the output neuron\n",
        "output = nn.forward(inputs)\n",
        "print(\"Net input to the output neuron:\", output)\n",
        "\n"
      ]
    },
    {
      "cell_type": "code",
      "source": [
        "def MCP_AND(inputs):\n",
        "    weights = np.array([1, 1])\n",
        "    threshold = 1.5\n",
        "    net_input = np.dot(inputs, weights)\n",
        "    return 1 if net_input >= threshold else 0\n",
        "\n",
        "def MCP_NOT(input):\n",
        "    weight = -1\n",
        "    threshold = -0.5\n",
        "    net_input = input * weight\n",
        "    return 1 if net_input >= threshold else 0\n",
        "\n",
        "# Example usage\n",
        "inputs_and = np.array([1, 1])\n",
        "output_and = MCP_AND(inputs_and)\n",
        "print(\"AND function output:\", output_and)\n",
        "\n",
        "input_not = 1\n",
        "output_not = MCP_NOT(input_not)\n",
        "print(\"NOT function output:\", output_not)\n"
      ],
      "metadata": {
        "colab": {
          "base_uri": "https://localhost:8080/"
        },
        "id": "QawZlwoxr0Hi",
        "outputId": "66a2a0aa-2ef5-45e4-ba98-94284fb21b8f"
      },
      "execution_count": 8,
      "outputs": [
        {
          "output_type": "stream",
          "name": "stdout",
          "text": [
            "AND function output: 1\n",
            "NOT function output: 0\n"
          ]
        }
      ]
    },
    {
      "cell_type": "code",
      "source": [
        "def MCP_AND(inputs):\n",
        "    weights = np.array([1, 1])\n",
        "    threshold = 1.5\n",
        "    net_input = np.dot(inputs, weights)\n",
        "    return 1 if net_input >= threshold else 0\n",
        "\n",
        "def MCP_OR(inputs):\n",
        "    weights = np.array([1, 1])\n",
        "    threshold = 0.5\n",
        "    net_input = np.dot(inputs, weights)\n",
        "    return 1 if net_input >= threshold else 0\n",
        "\n",
        "def MCP_NOT(input):\n",
        "    weight = -1\n",
        "    threshold = -0.5\n",
        "    net_input = input * weight\n",
        "    return 1 if net_input >= threshold else 0\n",
        "\n",
        "def MCP_XOR(inputs):\n",
        "    and1 = MCP_AND([inputs[0], MCP_NOT(inputs[1])])\n",
        "    and2 = MCP_AND([MCP_NOT(inputs[0]), inputs[1]])\n",
        "    return MCP_OR([and1, and2])\n",
        "\n",
        "# Example usage\n",
        "inputs_xor = np.array([1, 0])\n",
        "output_xor = MCP_XOR(inputs_xor)\n",
        "print(\"XOR function output:\", output_xor)\n"
      ],
      "metadata": {
        "colab": {
          "base_uri": "https://localhost:8080/"
        },
        "id": "FpRJT7SIr7v5",
        "outputId": "38cc196f-9d69-41a3-d7cf-4fbe03197a97"
      },
      "execution_count": 9,
      "outputs": [
        {
          "output_type": "stream",
          "name": "stdout",
          "text": [
            "XOR function output: 1\n"
          ]
        }
      ]
    },
    {
      "cell_type": "code",
      "source": [
        "import numpy as np\n",
        "\n",
        "class SimpleLinearNNWithBias:\n",
        "    def __init__(self, input_size, output_size):\n",
        "        self.weights = np.random.rand(input_size, output_size)\n",
        "        self.bias = np.random.rand(output_size)\n",
        "\n",
        "    def forward(self, inputs):\n",
        "        return np.dot(inputs, self.weights) + self.bias\n",
        "\n",
        "# Example usage\n",
        "input_size = 3\n",
        "output_size = 1\n",
        "inputs = np.array([1, 2, 3])\n",
        "\n",
        "# Create a simple linear neural network with bias\n",
        "nn = SimpleLinearNNWithBias(input_size, output_size)\n",
        "\n",
        "# Calculate the net input to the output neuron\n",
        "output = nn.forward(inputs)\n",
        "print(\"Net input to the output neuron with bias:\", output)\n"
      ],
      "metadata": {
        "colab": {
          "base_uri": "https://localhost:8080/"
        },
        "id": "SVU4dXF4sA7W",
        "outputId": "d22c689f-3b9d-4809-bf7d-c3e201e39429"
      },
      "execution_count": 10,
      "outputs": [
        {
          "output_type": "stream",
          "name": "stdout",
          "text": [
            "Net input to the output neuron with bias: [5.00904164]\n"
          ]
        }
      ]
    },
    {
      "cell_type": "code",
      "source": [
        "import numpy as np\n",
        "\n",
        "class HebbNet:\n",
        "    def __init__(self, input_size):\n",
        "        self.weights = np.zeros(input_size)\n",
        "        self.bias = 0\n",
        "\n",
        "    def train(self, inputs, outputs):\n",
        "        for x, y in zip(inputs, outputs):\n",
        "            self.weights += x * y\n",
        "            self.bias += y\n",
        "\n",
        "    def predict(self, input):\n",
        "        net_input = np.dot(input, self.weights) + self.bias\n",
        "        return 1 if net_input >= 0 else -1\n",
        "\n",
        "# Example usage\n",
        "inputs = np.array([[1, 1], [1, -1], [-1, 1], [-1, -1]])\n",
        "outputs = np.array([1, -1, -1, -1])\n",
        "\n",
        "# Create and train HebbNet\n",
        "hebbnet = HebbNet(input_size=2)\n",
        "hebbnet.train(inputs, outputs)\n",
        "\n",
        "print(\"Weights:\", hebbnet.weights)\n",
        "print(\"Bias:\", hebbnet.bias)\n",
        "\n",
        "# Predicting\n",
        "for input in inputs:\n",
        "    print(f\"Input: {input}, Prediction: {hebbnet.predict(input)}\")\n"
      ],
      "metadata": {
        "colab": {
          "base_uri": "https://localhost:8080/"
        },
        "id": "7TeO2RKisD9F",
        "outputId": "3dae4ee8-b5ee-40e6-d3a4-477fd3896570"
      },
      "execution_count": 11,
      "outputs": [
        {
          "output_type": "stream",
          "name": "stdout",
          "text": [
            "Weights: [2. 2.]\n",
            "Bias: -2\n",
            "Input: [1 1], Prediction: 1\n",
            "Input: [ 1 -1], Prediction: -1\n",
            "Input: [-1  1], Prediction: -1\n",
            "Input: [-1 -1], Prediction: -1\n"
          ]
        }
      ]
    },
    {
      "cell_type": "code",
      "source": [
        "import numpy as np\n",
        "\n",
        "class XORNeuralNetwork:\n",
        "    def __init__(self, learning_rate=0.1):\n",
        "        self.learning_rate = learning_rate\n",
        "        # Initialize weights and biases\n",
        "        self.weights_input_hidden = np.random.rand(2, 2)\n",
        "        self.weights_hidden_output = np.random.rand(2, 1)\n",
        "        self.bias_hidden = np.random.rand(2)\n",
        "        self.bias_output = np.random.rand(1)\n",
        "\n",
        "    def sigmoid(self, x):\n",
        "        return 1 / (1 + np.exp(-x))\n",
        "\n",
        "    def sigmoid_derivative(self, x):\n",
        "        return x * (1 - x)\n",
        "\n",
        "    def forward(self, inputs):\n",
        "        # Forward pass\n",
        "        self.hidden_input = np.dot(inputs, self.weights_input_hidden) + self.bias_hidden\n",
        "        self.hidden_output = self.sigmoid(self.hidden_input)\n",
        "        self.final_input = np.dot(self.hidden_output, self.weights_hidden_output) + self.bias_output\n",
        "        self.final_output = self.sigmoid(self.final_input)\n",
        "        return self.final_output\n",
        "\n",
        "    def backward(self, inputs, expected_output, output):\n",
        "        # Backward pass\n",
        "        output_error = expected_output - output\n",
        "        output_delta = output_error * self.sigmoid_derivative(output)\n",
        "\n",
        "        hidden_error = output_delta.dot(self.weights_hidden_output.T)\n",
        "        hidden_delta = hidden_error * self.sigmoid_derivative(self.hidden_output)\n",
        "\n",
        "        # Update weights and biases\n",
        "        self.weights_hidden_output += self.hidden_output.T.dot(output_delta) * self.learning_rate\n",
        "        self.weights_input_hidden += inputs.T.dot(hidden_delta) * self.learning_rate\n",
        "        self.bias_output += np.sum(output_delta, axis=0) * self.learning_rate\n",
        "        self.bias_hidden += np.sum(hidden_delta, axis=0) * self.learning_rate\n",
        "\n",
        "    def train(self, inputs, outputs, epochs):\n",
        "        for _ in range(epochs):\n",
        "            output = self.forward(inputs)\n",
        "            self.backward(inputs, outputs, output)\n",
        "\n",
        "# Example usage\n",
        "inputs = np.array([\n",
        "    [0, 0],\n",
        "    [0, 1],\n",
        "    [1, 0],\n",
        "    [1, 1]\n",
        "])\n",
        "outputs = np.array([[0], [1], [1], [0]])\n",
        "\n",
        "# Create the XOR neural network\n",
        "nn = XORNeuralNetwork(learning_rate=0.1)\n",
        "\n",
        "# Train the network\n",
        "epochs = 1000\n",
        "nn.train(inputs, outputs, epochs)\n",
        "\n",
        "\n",
        "# Test the network\n",
        "for input_vector in inputs:\n",
        "    print(f\"Input: {input_vector}, Output: {nn.forward(input_vector)}\")\n",
        "\n"
      ],
      "metadata": {
        "colab": {
          "base_uri": "https://localhost:8080/"
        },
        "id": "ucvGfXRosIgk",
        "outputId": "33d5c7be-2298-4235-dd91-b9629cfd1997"
      },
      "execution_count": 15,
      "outputs": [
        {
          "output_type": "stream",
          "name": "stdout",
          "text": [
            "Input: [0 0], Output: [0.49466959]\n",
            "Input: [0 1], Output: [0.50485811]\n",
            "Input: [1 0], Output: [0.49912521]\n",
            "Input: [1 1], Output: [0.50753593]\n"
          ]
        }
      ]
    },
    {
      "cell_type": "code",
      "source": [
        "import numpy as np\n",
        "\n",
        "class FuzzyController:\n",
        "    def __init__(self):\n",
        "        pass\n",
        "\n",
        "    def fuzzify(self, dirt_level, load_weight):\n",
        "        # Define fuzzy sets\n",
        "        dirt_levels = {\"low\": max(0, min(1, 1 - dirt_level / 5)),\n",
        "                       \"medium\": max(0, min(1, (dirt_level - 3) / 2)),\n",
        "                       \"high\": max(0, min(1, (dirt_level - 5) / 2))}\n",
        "\n",
        "        load_weights = {\"light\": max(0, min(1, 1 - load_weight / 5)),\n",
        "                        \"medium\": max(0, min(1, (load_weight - 3) / 2)),\n",
        "                        \"heavy\": max(0, min(1, (load_weight - 5) / 2))}\n",
        "\n",
        "        return dirt_levels, load_weights\n",
        "\n",
        "    def infer(self, dirt_levels, load_weights):\n",
        "        # Define rule base\n",
        "        wash_time = 0\n",
        "        if dirt_levels[\"low\"] > 0 and load_weights[\"light\"] > 0:\n",
        "            wash_time = 30\n",
        "        elif dirt_levels[\"medium\"] > 0 and load_weights[\"medium\"] > 0:\n",
        "            wash_time = 45\n",
        "        elif dirt_levels[\"high\"] > 0 and load_weights[\"heavy\"] > 0:\n",
        "            wash_time = 60\n",
        "\n",
        "        return wash_time\n",
        "\n",
        "# Example usage\n",
        "# Use a different variable name to avoid overwriting the built-in input() function\n",
        "dirt_level_input = 10 #change acoording to need\n",
        "load_weight_input = 8  #change acoording to need\n",
        "\n",
        "# Create a fuzzy controller\n",
        "controller = FuzzyController()\n",
        "\n",
        "# Fuzzify inputs\n",
        "dirt_levels, load_weights = controller.fuzzify(dirt_level_input, load_weight_input)\n",
        "\n",
        "# Infer wash time\n",
        "wash_time = controller.infer(dirt_levels, load_weights)\n",
        "print(f\"Recommended wash time: {wash_time} minutes\")\n"
      ],
      "metadata": {
        "colab": {
          "base_uri": "https://localhost:8080/"
        },
        "id": "CC2V20vfsyt0",
        "outputId": "6abd314e-fd0a-4176-dd51-d15e43bc8b5c"
      },
      "execution_count": 20,
      "outputs": [
        {
          "output_type": "stream",
          "name": "stdout",
          "text": [
            "Recommended wash time: 45 minutes\n"
          ]
        }
      ]
    },
    {
      "cell_type": "code",
      "source": [
        "# prompt: Design a simple linear neural network model and implement it by using Python programming. Calculate the output of the neural net using both binary and bipolar sigmoidal functions.\n",
        "\n",
        "import numpy as np\n",
        "\n",
        "class SimpleLinearNN:\n",
        "    def __init__(self, input_size, output_size):\n",
        "        self.weights = np.random.rand(input_size, output_size)\n",
        "        self.bias = np.random.rand(output_size)\n",
        "\n",
        "    def binary_sigmoid(self, x):\n",
        "        return 1 / (1 + np.exp(-x))\n",
        "\n",
        "    def bipolar_sigmoid(self, x):\n",
        "        return (np.exp(x) - np.exp(-x)) / (np.exp(x) + np.exp(-x))\n",
        "\n",
        "    def forward(self, inputs, activation_func):\n",
        "        net_input = np.dot(inputs, self.weights) + self.bias\n",
        "        output = activation_func(net_input)\n",
        "        return output\n",
        "\n",
        "# Example usage\n",
        "input_size = 3\n",
        "output_size = 1\n",
        "inputs = np.array([1, 2, 3])\n",
        "\n",
        "# Create a simple linear neural network\n",
        "nn = SimpleLinearNN(input_size, output_size)\n",
        "\n",
        "# Calculate the output using binary sigmoid\n",
        "output_binary = nn.forward(inputs, nn.binary_sigmoid)\n",
        "print(\"Output using binary sigmoid:\", output_binary)\n",
        "\n",
        "# Calculate the output using bipolar sigmoid\n",
        "output_bipolar = nn.forward(inputs, nn.bipolar_sigmoid)\n",
        "print(\"Output using bipolar sigmoid:\", output_bipolar)\n"
      ],
      "metadata": {
        "colab": {
          "base_uri": "https://localhost:8080/"
        },
        "id": "38ir8rPYw5lP",
        "outputId": "f344796a-2e1e-49ad-a059-7025bfcbddab"
      },
      "execution_count": 33,
      "outputs": [
        {
          "output_type": "stream",
          "name": "stdout",
          "text": [
            "Output using binary sigmoid: [0.97759788]\n",
            "Output using bipolar sigmoid: [0.99895031]\n"
          ]
        }
      ]
    },
    {
      "cell_type": "code",
      "source": [
        "# prompt: Implement an unsupervised learning algorithm – Hebbian Learning using Python programming.\n",
        "\n",
        "import numpy as np\n",
        "class HebbNet:\n",
        "    def __init__(self, input_size):\n",
        "        self.weights = np.zeros(input_size)\n",
        "        self.bias = 0\n",
        "\n",
        "    def train(self, inputs):\n",
        "        for input in inputs:\n",
        "            self.weights += input\n",
        "            self.bias += 1\n",
        "\n",
        "    def predict(self, input):\n",
        "        net_input = np.dot(input, self.weights) + self.bias\n",
        "        return 1 if net_input >= 0 else -1\n",
        "\n",
        "# Example usage\n",
        "inputs = np.array([[1, 1], [1, -1], [-1, 1], [-1, -1]])\n",
        "\n",
        "# Create and train HebbNet\n",
        "hebbnet = HebbNet(input_size=2)\n",
        "hebbnet.train(inputs)\n",
        "\n",
        "print(\"Weights:\", hebbnet.weights)\n",
        "print(\"Bias:\", hebbnet.bias)\n",
        "\n",
        "# Predicting\n",
        "for input in inputs:\n",
        "    print(f\"Input: {input}, Prediction: {hebbnet.predict(input)}\")\n"
      ],
      "metadata": {
        "colab": {
          "base_uri": "https://localhost:8080/"
        },
        "id": "PnmHG35HxLje",
        "outputId": "78c3537a-46d4-4b72-b858-9856341323a1"
      },
      "execution_count": 35,
      "outputs": [
        {
          "output_type": "stream",
          "name": "stdout",
          "text": [
            "Weights: [0. 0.]\n",
            "Bias: 4\n",
            "Input: [1 1], Prediction: 1\n",
            "Input: [ 1 -1], Prediction: 1\n",
            "Input: [-1  1], Prediction: 1\n",
            "Input: [-1 -1], Prediction: 1\n"
          ]
        }
      ]
    },
    {
      "cell_type": "code",
      "source": [
        "# prompt: Implement a Genetic Application – Match Word Finding using Python programming.\n",
        "\n",
        "import random\n",
        "\n",
        "# Define the target word\n",
        "target_word = \"hello\"\n",
        "\n",
        "# Initialize the population with random letters\n",
        "population = [''.join(random.choices('abcdefghijklmnopqrstuvwxyz', k=len(target_word))) for _ in range(100)]\n",
        "\n",
        "# Define the fitness function\n",
        "def fitness(individual):\n",
        "    return sum(1 for i in range(len(individual)) if individual[i] == target_word[i])\n",
        "\n",
        "# Perform genetic operations for a certain number of generations\n",
        "for _ in range(100):\n",
        "    # Select parents based on fitness\n",
        "    parents = random.choices(population, weights=[fitness(individual) for individual in population], k=2)\n",
        "\n",
        "    # Create offspring using crossover and mutation\n",
        "    offspring = []\n",
        "    for i in range(len(parents[0])):\n",
        "        if random.random() < 0.5:\n",
        "            offspring.append(parents[0][i])\n",
        "        else:\n",
        "            offspring.append(parents[1][i])\n",
        "    if random.random() < 0.1:\n",
        "        offspring[random.randint(0, len(offspring) - 1)] = random.choice('abcdefghijklmnopqrstuvwxyz')\n",
        "\n",
        "    # Add offspring to the population\n",
        "    population.append(offspring)\n",
        "\n",
        "# Print the best match\n",
        "best_match = None\n",
        "best_fitness = 0\n",
        "for individual in population:\n",
        "    if fitness(individual) > best_fitness:\n",
        "        best_match = individual\n",
        "        best_fitness = fitness(individual)\n",
        "\n",
        "print(f\"Best match: {best_match}, Fitness: {best_fitness}\")\n"
      ],
      "metadata": {
        "colab": {
          "base_uri": "https://localhost:8080/"
        },
        "id": "YGouAAuPxjiO",
        "outputId": "cd8be0fc-9ce2-4f47-8870-fca594488de3"
      },
      "execution_count": 39,
      "outputs": [
        {
          "output_type": "stream",
          "name": "stdout",
          "text": [
            "Best match: ['h', 'l', 'g', 'l', 'o'], Fitness: 3\n"
          ]
        }
      ]
    }
  ]
}